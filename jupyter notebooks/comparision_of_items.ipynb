{
 "cells": [
  {
   "cell_type": "code",
   "execution_count": 21,
   "id": "6c9d9e0d-45f9-4db7-9744-26a95bae68f3",
   "metadata": {},
   "outputs": [
    {
     "name": "stdout",
     "output_type": "stream",
     "text": [
      "Consolidated menu data has been written to 'consolidated_menu_prices.csv'.\n"
     ]
    }
   ],
   "source": [
    "import pandas as pd\n",
    "\n",
    "# Load the CSV files for the Village restaurant and other 5 restaurants\n",
    "#village_restaurant = pd.read_csv('menu_items(village).csv')  # Replace with your Village restaurant file\n",
    "village_restaurant = pd.read_csv('menu_items(village).csv', encoding='ISO-8859-1')\n",
    "\n",
    "chennai_dosas = pd.read_csv('chennai_dosas_data.csv')  # Replace with your first other restaurant file\n",
    "dosa_world = pd.read_csv('dosa_world_data.csv')  # Replace with your second other restaurant file\n",
    "House_of_Dosas = pd.read_csv('House_of_Dosas_data.csv')  # Replace with your third other restaurant file\n",
    "taste_of_chennai = pd.read_csv('taste_of_chennai_data.csv')  # Replace with your fourth other restaurant file\n",
    "mithaas = pd.read_csv('mithaas_data.csv')  # Replace with your fifth other restaurant file\n",
    "\n",
    "# Merge all restaurant data on 'Item Name'\n",
    "merged_data = village_restaurant[['Item Name', 'Price']].rename(columns={'Price': 'Price_Village'})\n",
    "\n",
    "merged_data = pd.merge(merged_data, chennai_dosas[['Item Name', 'Price']], on='Item Name', how='left')\n",
    "merged_data = merged_data.rename(columns={'Price': 'chennai_dosas'})\n",
    "\n",
    "merged_data = pd.merge(merged_data, dosa_world[['Item Name', 'Price']], on='Item Name', how='left')\n",
    "merged_data = merged_data.rename(columns={'Price': 'dosa_world'})\n",
    "\n",
    "merged_data = pd.merge(merged_data, House_of_Dosas[['Item Name', 'Price']], on='Item Name', how='left')\n",
    "merged_data = merged_data.rename(columns={'Price': 'House_of_Dosas'})\n",
    "\n",
    "merged_data = pd.merge(merged_data, taste_of_chennai[['Item Name', 'Price']], on='Item Name', how='left')\n",
    "merged_data = merged_data.rename(columns={'Price': 'taste_of_chennai'})\n",
    "\n",
    "merged_data = pd.merge(merged_data, mithaas[['Item Name', 'Price']], on='Item Name', how='left')\n",
    "merged_data = merged_data.rename(columns={'Price': 'mithaas'})\n",
    "\n",
    "# Replace NaN values with '-'\n",
    "merged_data.fillna('-', inplace=True)\n",
    "\n",
    "# Save the consolidated data to a CSV file\n",
    "merged_data.to_csv('consolidated_menu_prices.csv', index=False)\n",
    "\n",
    "print(\"Consolidated menu data has been written to 'consolidated_menu_prices.csv'.\")\n"
   ]
  },
  {
   "cell_type": "code",
   "execution_count": 23,
   "id": "ee4eb34a-90f0-432b-8293-b87c11aa594c",
   "metadata": {},
   "outputs": [
    {
     "name": "stdout",
     "output_type": "stream",
     "text": [
      "             Item Name  Price_Village  chennai_dosas  dosa_world  \\\n",
      "0                Rasam           4.95           5.15        4.99   \n",
      "1               Sambar           4.95           5.15         NaN   \n",
      "2    Mulligatawny Soup           4.95            NaN        4.99   \n",
      "3          Garden Soup           4.95           6.95         NaN   \n",
      "5         Garden Salad           4.95           6.95        4.75   \n",
      "..                 ...            ...            ...         ...   \n",
      "168        Yogurt Rice           9.95           7.95         NaN   \n",
      "169        Gulab Jamun           4.95           5.45        4.99   \n",
      "170          Rasamalai           4.95            NaN         NaN   \n",
      "173        Badam Halwa           5.95           5.45        5.99   \n",
      "181             Sprite           1.95            NaN         NaN   \n",
      "\n",
      "     House_of_Dosas  taste_of_chennai  mithaas  \n",
      "0               NaN              6.49      NaN  \n",
      "1               NaN              6.49      NaN  \n",
      "2               NaN               NaN      NaN  \n",
      "3               NaN               NaN      NaN  \n",
      "5               NaN              6.99      NaN  \n",
      "..              ...               ...      ...  \n",
      "168             6.5               NaN      NaN  \n",
      "169             3.5              4.49      NaN  \n",
      "170             3.5               NaN      NaN  \n",
      "173             4.0              4.99      NaN  \n",
      "181             NaN               NaN      3.0  \n",
      "\n",
      "[62 rows x 7 columns]\n"
     ]
    },
    {
     "name": "stderr",
     "output_type": "stream",
     "text": [

      "A value is trying to be set on a copy of a slice from a DataFrame.\n",
      "Try using .loc[row_indexer,col_indexer] = value instead\n",
      "\n",
      "See the caveats in the documentation: https://pandas.pydata.org/pandas-docs/stable/user_guide/indexing.html#returning-a-view-versus-a-copy\n",
      "  df_filtered['Price_Village'] = df_filtered['Price_Village'].apply(convert_to_float)\n",

      "A value is trying to be set on a copy of a slice from a DataFrame.\n",
      "Try using .loc[row_indexer,col_indexer] = value instead\n",
      "\n",
      "See the caveats in the documentation: https://pandas.pydata.org/pandas-docs/stable/user_guide/indexing.html#returning-a-view-versus-a-copy\n",
      "  df_filtered[col] = df_filtered[col].apply(convert_to_float)\n"
     ]
    }
   ],
   "source": [
    "import pandas as pd\n",
    "\n",
    "# Step 1: Read the CSV file\n",
    "df = pd.read_csv('consolidated_menu_prices.csv')\n",
    "\n",
    "# Step 2: Remove items where all competitors have no price listed ('-')\n",
    "competitor_columns = ['chennai_dosas', 'dosa_world', 'House_of_Dosas', 'taste_of_chennai', 'mithaas']\n",
    "\n",
    "# We will apply a filter to keep only rows where at least one competitor price is valid\n",
    "df_filtered = df[df[competitor_columns].apply(lambda x: (x != '-').any(), axis=1)]\n",
    "\n",
    "# Step 3: Clean and convert prices to numeric values for comparison\n",
    "def convert_to_float(price_str):\n",
    "    \"\"\"Convert a price string like '$ 4.95' to a float (4.95).\"\"\"\n",
    "    if price_str == '-' or pd.isnull(price_str):\n",
    "        return None\n",
    "    return float(price_str.replace('$', '').strip())\n",
    "\n",
    "# Apply conversion to all relevant columns\n",
    "df_filtered['Price_Village'] = df_filtered['Price_Village'].apply(convert_to_float)\n",
    "for col in competitor_columns:\n",
    "    df_filtered[col] = df_filtered[col].apply(convert_to_float)\n",
    "\n",
    "# Step 4: Save the filtered DataFrame to a new CSV file\n",
    "df_filtered.to_csv('filtered_menu_prices.csv', index=False)\n",
    "\n",
    "# Step 5: Display the filtered DataFrame (optional)\n",
    "print(df_filtered)\n"
   ]
  },
  {
   "cell_type": "code",
   "execution_count": null,
   "id": "9fe78f20-8aad-4921-8088-46bc95d37383",
   "metadata": {},
   "outputs": [],
   "source": []
  }
 ],
 "metadata": {
  "kernelspec": {
   "display_name": "Python 3 (ipykernel)",
   "language": "python",
   "name": "python3"
  },
  "language_info": {
   "codemirror_mode": {
    "name": "ipython",
    "version": 3
   },
   "file_extension": ".py",
   "mimetype": "text/x-python",
   "name": "python",
   "nbconvert_exporter": "python",
   "pygments_lexer": "ipython3",
   "version": "3.12.4"
  }
 },
 "nbformat": 4,
 "nbformat_minor": 5
}
