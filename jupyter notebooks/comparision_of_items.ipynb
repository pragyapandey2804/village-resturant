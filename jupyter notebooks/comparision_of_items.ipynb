{
 "cells": [
  {
   "cell_type": "code",
   "execution_count": 7,
   "id": "6c9d9e0d-45f9-4db7-9744-26a95bae68f3",
   "metadata": {},
   "outputs": [
    {
     "name": "stdout",
     "output_type": "stream",
     "text": [
      "Consolidated menu data has been written to 'consolidated_menu_prices.csv'.\n"
     ]
    }
   ],
   "source": [
    "import pandas as pd\n",
    "\n",
    "# Load the CSV files for the Village restaurant and other 5 restaurants\n",
    "village_restaurant = pd.read_csv('village_restaurant_data.csv')  # Replace with your Village restaurant file\n",
    "chennai_dosas = pd.read_csv('chennai_dosas_data.csv')  # Replace with your first other restaurant file\n",
    "dosa_world = pd.read_csv('dosa_world_data.csv')  # Replace with your second other restaurant file\n",
    "House_of_Dosas = pd.read_csv('House_of_Dosas_data.csv')  # Replace with your third other restaurant file\n",
    "taste_of_chennai = pd.read_csv('taste_of_chennai_data.csv')  # Replace with your fourth other restaurant file\n",
    "mithaas = pd.read_csv('mithaas_data.csv')  # Replace with your fifth other restaurant file\n",
    "\n",
    "# Merge all restaurant data on 'Item Name'\n",
    "merged_data = village_restaurant[['Item Name', 'Price']].rename(columns={'Price': 'Price_Village'})\n",
    "\n",
    "merged_data = pd.merge(merged_data, chennai_dosas[['Item Name', 'Price']], on='Item Name', how='left')\n",
    "merged_data = merged_data.rename(columns={'Price': 'chennai_dosas'})\n",
    "\n",
    "merged_data = pd.merge(merged_data, dosa_world[['Item Name', 'Price']], on='Item Name', how='left')\n",
    "merged_data = merged_data.rename(columns={'Price': 'dosa_world'})\n",
    "\n",
    "merged_data = pd.merge(merged_data, House_of_Dosas[['Item Name', 'Price']], on='Item Name', how='left')\n",
    "merged_data = merged_data.rename(columns={'Price': 'House_of_Dosas'})\n",
    "\n",
    "merged_data = pd.merge(merged_data, taste_of_chennai[['Item Name', 'Price']], on='Item Name', how='left')\n",
    "merged_data = merged_data.rename(columns={'Price': 'taste_of_chennai'})\n",
    "\n",
    "merged_data = pd.merge(merged_data, mithaas[['Item Name', 'Price']], on='Item Name', how='left')\n",
    "merged_data = merged_data.rename(columns={'Price': 'mithaas'})\n",
    "\n",
    "# Replace NaN values with '-'\n",
    "merged_data.fillna('-', inplace=True)\n",
    "\n",
    "# Save the consolidated data to a CSV file\n",
    "merged_data.to_csv('consolidated_menu_prices.csv', index=False)\n",
    "\n",
    "print(\"Consolidated menu data has been written to 'consolidated_menu_prices.csv'.\")\n"
   ]
  },
  {
   "cell_type": "code",
   "execution_count": null,
   "id": "ee4eb34a-90f0-432b-8293-b87c11aa594c",
   "metadata": {},
   "outputs": [],
   "source": []
  }
 ],
 "metadata": {
  "kernelspec": {
   "display_name": "Python 3 (ipykernel)",
   "language": "python",
   "name": "python3"
  },
  "language_info": {
   "codemirror_mode": {
    "name": "ipython",
    "version": 3
   },
   "file_extension": ".py",
   "mimetype": "text/x-python",
   "name": "python",
   "nbconvert_exporter": "python",
   "pygments_lexer": "ipython3",
   "version": "3.12.4"
  }
 },
 "nbformat": 4,
 "nbformat_minor": 5
}
